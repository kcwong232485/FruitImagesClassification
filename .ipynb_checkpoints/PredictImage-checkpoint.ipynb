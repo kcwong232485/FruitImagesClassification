{
 "cells": [
  {
   "cell_type": "code",
   "execution_count": 7,
   "id": "f34e91e7",
   "metadata": {},
   "outputs": [
    {
     "name": "stdout",
     "output_type": "stream",
     "text": [
      "1/1 [==============================] - 0s 81ms/step\n",
      "predict [[0. 0. 1. 0. 0.]]\n",
      "classes [2]\n"
     ]
    }
   ],
   "source": [
    "from keras.models import load_model\n",
    "import os\n",
    "import cv2\n",
    "import numpy as np\n",
    "\n",
    "model = load_model('model.h5')\n",
    "\n",
    "model.compile(loss='categorical_crossentropy', optimizer='rmsprop', metrics=['accuracy'])\n",
    "\n",
    "directory_path = os.getcwd()\n",
    "predict_dir = directory_path + '\\\\inputimages\\\\predict\\\\'\n",
    "\n",
    "img = cv2.imread(predict_dir + 'fruit03.jpg')\n",
    "img = cv2.resize(img,(233,216))\n",
    "img = np.reshape(img,[1,233,216,3])\n",
    "\n",
    "# classes = model.predict_classes(img)\n",
    "predict_x = model.predict(img) \n",
    "print(\"predict\", predict_x)\n",
    "classes_x = np.argmax(predict_x, axis=1)\n",
    "print(\"classes\", classes_x)\n"
   ]
  },
  {
   "cell_type": "code",
   "execution_count": null,
   "id": "d3a8cd5c",
   "metadata": {},
   "outputs": [],
   "source": []
  }
 ],
 "metadata": {
  "kernelspec": {
   "display_name": "Python 3 (ipykernel)",
   "language": "python",
   "name": "python3"
  },
  "language_info": {
   "codemirror_mode": {
    "name": "ipython",
    "version": 3
   },
   "file_extension": ".py",
   "mimetype": "text/x-python",
   "name": "python",
   "nbconvert_exporter": "python",
   "pygments_lexer": "ipython3",
   "version": "3.9.12"
  }
 },
 "nbformat": 4,
 "nbformat_minor": 5
}
