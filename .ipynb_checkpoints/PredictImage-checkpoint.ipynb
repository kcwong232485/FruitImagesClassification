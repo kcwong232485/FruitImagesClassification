{
 "cells": [
  {
   "cell_type": "code",
   "execution_count": null,
   "id": "f34e91e7",
   "metadata": {},
   "outputs": [],
   "source": [
    "from keras.models import load_model\n",
    "import os\n",
    "import cv2\n",
    "import numpy as np\n",
    "\n",
    "model = load_model('model.h5')\n",
    "\n",
    "model.compile(loss='categorical_crossentropy', optimizer='rmsprop', metrics=['accuracy'])\n",
    "\n",
    "directory_path = os.getcwd()\n",
    "predict_dir = directory_path + '\\\\inputimages\\\\predict\\\\'"
   ]
  },
  {
   "cell_type": "code",
   "execution_count": 3,
   "id": "cbfcae68",
   "metadata": {},
   "outputs": [
    {
     "name": "stdout",
     "output_type": "stream",
     "text": [
      "0: C:\\Users\\user\\JupyterNotebook\\projFruitImagesClassification\\inputimages\\predict\\fruit01.jpg\n",
      "1: C:\\Users\\user\\JupyterNotebook\\projFruitImagesClassification\\inputimages\\predict\\fruit02.jpg\n",
      "2: C:\\Users\\user\\JupyterNotebook\\projFruitImagesClassification\\inputimages\\predict\\fruit03.jpg\n"
     ]
    }
   ],
   "source": [
    "# image01.jpg is apple, image02.jpg is banana and image03.jpg is strawberry\n",
    "for i in range(3):\n",
    "    print(str(i) + ': ' + predict_dir + 'fruit0' + str(i+1) + '.jpg')"
   ]
  },
  {
   "cell_type": "code",
   "execution_count": 4,
   "id": "d3a8cd5c",
   "metadata": {},
   "outputs": [
    {
     "name": "stdout",
     "output_type": "stream",
     "text": [
      "1/1 [==============================] - 0s 268ms/step\n",
      "predict [[0. 0. 1. 0. 0.]]\n",
      "classes [2]\n",
      "1/1 [==============================] - 0s 43ms/step\n",
      "predict [[0. 0. 1. 0. 0.]]\n",
      "classes [2]\n",
      "1/1 [==============================] - 0s 39ms/step\n",
      "predict [[0. 0. 1. 0. 0.]]\n",
      "classes [2]\n"
     ]
    }
   ],
   "source": [
    "# image01.jpg is apple, image02.jpg is banana and image03.jpg is strawberry\n",
    "\n",
    "for i in range(3):\n",
    "    img = cv2.imread(predict_dir + 'fruit0' + str(i+1) + '.jpg')\n",
    "    \n",
    "    img = cv2.resize(img,(233,216))\n",
    "    img = np.reshape(img,[1,233,216,3])\n",
    "    # classes = model.predict_classes(img)\n",
    "    predict_x = model.predict(img) \n",
    "    print(\"predict\", predict_x)\n",
    "    classes_x = np.argmax(predict_x, axis=1)\n",
    "    print(\"classes\", classes_x)"
   ]
  },
  {
   "cell_type": "code",
   "execution_count": null,
   "id": "82cc5819",
   "metadata": {},
   "outputs": [],
   "source": []
  }
 ],
 "metadata": {
  "kernelspec": {
   "display_name": "Python 3 (ipykernel)",
   "language": "python",
   "name": "python3"
  },
  "language_info": {
   "codemirror_mode": {
    "name": "ipython",
    "version": 3
   },
   "file_extension": ".py",
   "mimetype": "text/x-python",
   "name": "python",
   "nbconvert_exporter": "python",
   "pygments_lexer": "ipython3",
   "version": "3.9.12"
  }
 },
 "nbformat": 4,
 "nbformat_minor": 5
}
