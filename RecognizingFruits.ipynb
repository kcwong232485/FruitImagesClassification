{
 "cells": [
  {
   "cell_type": "code",
   "execution_count": null,
   "id": "91657da2",
   "metadata": {},
   "outputs": [],
   "source": [
    "# Directory of fruits\n",
    "import os\n",
    "directory_path = os.getcwd()\n",
    "print(\"My current directory is : \" + directory_path)\n",
    "# define the train and test images path\n",
    "train_dir = directory_path + '\\\\inputimages\\\\train\\\\'\n",
    "test_dir = directory_path + '\\\\inputimages\\\\test\\\\'"
   ]
  },
  {
   "cell_type": "code",
   "execution_count": null,
   "id": "445e5a51",
   "metadata": {},
   "outputs": [],
   "source": [
    "# list the image file(s)\n",
    "for dirname, _, filenames in os.walk(test_dir):\n",
    "    for filename in filenames:\n",
    "        if filename.split(\".\")[-1] == \"txt\": \n",
    "            continue\n",
    "        print(os.path.join(dirname, filename))"
   ]
  },
  {
   "cell_type": "code",
   "execution_count": null,
   "id": "3741b0b8",
   "metadata": {},
   "outputs": [],
   "source": [
    "fruits_name = []\n",
    "fruits_image = []\n",
    "fruits_dir = []\n",
    "i = 0\n",
    "for subdir in os.listdir(train_dir):\n",
    "    fruits_dir.append(i) # name of the fruit i.e. label\n",
    "    i += 1\n",
    "    for image_filename in os.listdir(train_dir + subdir):\n",
    "        if image_filename.split(\".\")[-1] == \"txt\":\n",
    "            continue\n",
    "        fruits_name.append(subdir) # name of the fruit \n",
    "        fruits_image.append(subdir + '/' + image_filename) # image of the fruit"
   ]
  },
  {
   "cell_type": "code",
   "execution_count": null,
   "id": "0c720802",
   "metadata": {
    "scrolled": true
   },
   "outputs": [],
   "source": [
    "import pandas as pd # data processing, CSV file I/O\n",
    "train_fruits = pd.DataFrame(fruits_name, columns=[\"Fruits\"])\n",
    "train_fruits[\"Fruits Image\"] = fruits_image\n",
    "train_fruits"
   ]
  },
  {
   "cell_type": "code",
   "execution_count": null,
   "id": "f72a2dce",
   "metadata": {},
   "outputs": [],
   "source": [
    "# count for each fruit\n",
    "from collections import Counter\n",
    "# newData is a dictionary\n",
    "newData = Counter(train_fruits[\"Fruits\"])\n",
    "print(\"Found fruits in the data set and their corresponding count of image(s)\")\n",
    "# newData is dictionary\n",
    "# newData2 is list of tuple \n",
    "newData2 = newData.most_common()\n",
    "newData2"
   ]
  },
  {
   "cell_type": "code",
   "execution_count": null,
   "id": "e03c687e",
   "metadata": {},
   "outputs": [],
   "source": [
    "# list each fruit\n",
    "x,y = zip(*newData2)\n",
    "x,y = list(x),list(y)\n",
    "print(\"Found fruits: \", x)\n",
    "print(\"Number of Images: \", y)"
   ]
  },
  {
   "cell_type": "code",
   "execution_count": null,
   "id": "2fe88136",
   "metadata": {},
   "outputs": [],
   "source": [
    "# plot graphic for each fruit\n",
    "import matplotlib.pyplot as plt\n",
    "import seaborn as sns\n",
    "plt.figure(figsize=(5,5))\n",
    "ax= sns.barplot(x=x, y=y, palette=sns.color_palette(\"BuGn_r\", 15)) \n",
    "plt.xlabel('Fruits', size = 20) \n",
    "plt.ylabel('Number of Fruits', size = 20 )\n",
    "plt.xticks(rotation = 75)\n",
    "plt.title('Found fruits in the data set and their number') \n",
    "plt.show()"
   ]
  },
  {
   "cell_type": "code",
   "execution_count": null,
   "id": "39844c69",
   "metadata": {},
   "outputs": [],
   "source": [
    "import cv2\n",
    "from tensorflow.keras.utils import load_img\n",
    "plt.figure(figsize=(25,16))\n",
    "how_many_fruits = len(x)\n",
    "\n",
    "for i in range(how_many_fruits):\n",
    "    fruits = train_fruits[train_fruits[\"Fruits\"] == x[i]][\"Fruits Image\"].values [1]    \n",
    "    plt.subplot(3,5,i+1)\n",
    "    img = load_img(train_dir + fruits, target_size=(72, 72))    \n",
    "    plt.imshow(img)\n",
    "    plt.title(x[i].upper(), color = \"green\", fontsize = 15 , fontweight = 600)\n",
    "    plt.axis(\"off\")\n",
    "\n",
    "plt.suptitle(\"Fruits' label(s)\", fontsize = 25 , color = \"darkred\", fontweight = 'bold')\n",
    "plt.show()"
   ]
  },
  {
   "cell_type": "code",
   "execution_count": null,
   "id": "884d9fb1",
   "metadata": {},
   "outputs": [],
   "source": [
    "# open an image\n",
    "img = load_img(train_dir + \"/apple/image_19.jpg\")\n",
    "plt.imshow(img)\n",
    "plt.axis(\"off\")\n",
    "plt.show()"
   ]
  },
  {
   "cell_type": "code",
   "execution_count": null,
   "id": "f74bb971",
   "metadata": {},
   "outputs": [],
   "source": [
    "# what is the shape of image?\n",
    "from tensorflow.keras.utils import img_to_array\n",
    "array_image = img_to_array(img)\n",
    "print(\"Image Shape: \", array_image.shape)"
   ]
  },
  {
   "cell_type": "code",
   "execution_count": null,
   "id": "a2fbdf33",
   "metadata": {},
   "outputs": [],
   "source": [
    "# show how many type(s) of fruit\n",
    "from glob import glob\n",
    "fruitCountUnique = glob(train_dir + '/*' )\n",
    "# declare numberOfClass i.e. 5 fruits\n",
    "numberOfClass = len(fruitCountUnique)\n",
    "print(\"How many different fruits: \", numberOfClass)"
   ]
  },
  {
   "cell_type": "code",
   "execution_count": null,
   "id": "e6cf0fd9",
   "metadata": {},
   "outputs": [],
   "source": [
    "# import model \n",
    "import tensorflow as tf \n",
    "from tensorflow import keras\n",
    "from keras.preprocessing.image import ImageDataGenerator\n",
    "from keras.models import Sequential \n",
    "from keras.layers import Conv2D, MaxPooling2D, Activation, Dropout, Flatten, Dense\n",
    "\n",
    "#import warnings\n",
    "import warnings\n",
    "warnings.filterwarnings('ignore')\n",
    "model = Sequential()\n",
    "# convolution layer (1 st)\n",
    "model.add(Conv2D(\n",
    "    filters=32,\n",
    "    kernel_size = (5,5),\n",
    "    input_shape = (72, 72, 3),\n",
    "    activation = 'relu'))\n",
    "# pooling layer (1st)\n",
    "model.add(MaxPooling2D(pool_size=(2,2)))\n",
    "# dropout layer (1st)\n",
    "model.add(Dropout(0.1))\n",
    "\n",
    "# convolution layer (2nd)\n",
    "model.add(Conv2D(\n",
    "    filters=64, \n",
    "    kernel_size = (5,5),\n",
    "    activation = 'relu'))\n",
    "# pooling layer (2nd)\n",
    "model.add(MaxPooling2D(pool_size=(2,2)))\n",
    "# dropout layer (2nd )\n",
    "model.add(Dropout(0.2))\n",
    "\n",
    "# convlution layer (3rd)\n",
    "model.add(Conv2D(\n",
    "    filters=64,\n",
    "    kernel_size = (5,5),\n",
    "    activation = 'relu'))\n",
    "# pooling layer (3rd)\n",
    "model.add(MaxPooling2D(pool_size=(2,2)))\n",
    "# dropout layer (3rd )\n",
    "model.add(Dropout(0.3))\n",
    "# flatten layer\n",
    "model.add(Flatten())\n",
    "# Dense layer\n",
    "model.add(Dense(\n",
    "    units=1024, \n",
    "    activation='relu'))\n",
    "# dropout layer\n",
    "# model.add(Dropout(0.2))\n",
    "# output layer\n",
    "model.add(Dense(\n",
    "    units=numberOfClass, \n",
    "    activation='softmax')) "
   ]
  },
  {
   "cell_type": "code",
   "execution_count": null,
   "id": "145c8b25",
   "metadata": {},
   "outputs": [],
   "source": [
    "model.summary()"
   ]
  },
  {
   "cell_type": "code",
   "execution_count": null,
   "id": "081125ab",
   "metadata": {},
   "outputs": [],
   "source": [
    "model.compile(\n",
    "    loss = \"categorical_crossentropy\",\n",
    "    optimizer = \"rmsprop\",\n",
    "    metrics = [\"accuracy\"])"
   ]
  },
  {
   "cell_type": "code",
   "execution_count": null,
   "id": "83211066",
   "metadata": {},
   "outputs": [],
   "source": [
    "\n",
    "# number of training\n",
    "epochs = 100  \n",
    "# get 32 images per training\n",
    "batch_size = 32\n",
    "\n",
    "train_datagen = ImageDataGenerator(\n",
    "    rescale= 1./255, # normalize from 0~255 to 0~1\n",
    "    shear_range = 0.3,\n",
    "    horizontal_flip=True,\n",
    "    zoom_range = 0.3)\n",
    "\n",
    "train_generator = train_datagen.flow_from_directory(\n",
    "    train_dir, \n",
    "    target_size = (72, 72),\n",
    "    batch_size = batch_size,\n",
    "    color_mode= \"rgb\",\n",
    "    class_mode= \"categorical\")\n"
   ]
  },
  {
   "cell_type": "code",
   "execution_count": null,
   "id": "2e6904c1",
   "metadata": {},
   "outputs": [],
   "source": [
    "\n",
    "test_datagen = ImageDataGenerator(rescale=1./255)\n",
    "\n",
    "test_generator = test_datagen.flow_from_directory(\n",
    "        test_dir,\n",
    "        target_size = (72, 72),\n",
    "        batch_size = batch_size,\n",
    "        color_mode= \"rgb\",\n",
    "        class_mode= \"categorical\")\n"
   ]
  },
  {
   "cell_type": "code",
   "execution_count": null,
   "id": "2cb7397d",
   "metadata": {},
   "outputs": [],
   "source": [
    "# get the shape from train_generator\n",
    "for data_batch, labels_batch in train_generator:\n",
    "    print(\"data_batch (train) shape: \", data_batch.shape)\n",
    "    print(\"labels_batch (train) shape: \", labels_batch.shape)\n",
    "    break\n",
    "# get the shape from test_generator\n",
    "for data_batch, labels_batch in test_generator:\n",
    "    print(\"data_batch (test) shape: \", data_batch.shape)\n",
    "    print(\"labels_batch (test) shape: \", labels_batch.shape)\n",
    "    break"
   ]
  },
  {
   "cell_type": "code",
   "execution_count": null,
   "id": "4ca6925d",
   "metadata": {},
   "outputs": [],
   "source": [
    "\n",
    "hist = model.fit_generator(\n",
    "        generator = train_generator,\n",
    "        steps_per_epoch = (train_generator.samples) // batch_size,\n",
    "        epochs=epochs,\n",
    "        validation_data = test_generator,\n",
    "        validation_steps = (test_generator.samples) // batch_size)\n",
    "model.save('model.h5')"
   ]
  },
  {
   "cell_type": "code",
   "execution_count": null,
   "id": "06d8f6b9",
   "metadata": {},
   "outputs": [],
   "source": [
    "hist.history.keys()"
   ]
  },
  {
   "cell_type": "code",
   "execution_count": null,
   "id": "b4a4678a",
   "metadata": {},
   "outputs": [],
   "source": [
    "import matplotlib.pyplot as plt1\n",
    "plt1.figure(figsize=(12, 8))\n",
    "plt1.plot(hist.history[\"loss\"], label = \"Train Loss\", color = \"black\")\n",
    "plt1.plot(hist.history[\"val_loss\"], label = \"Validation Loss\", color = \"darkred\", \n",
    "         linestyle=\"dashed\", markeredgecolor = \"purple\", markeredgewidth = 2)\n",
    "plt1.title(\"Model Loss\", color = \"darkred\", size = 13)\n",
    "plt1.legend()\n",
    "plt1.show()"
   ]
  },
  {
   "cell_type": "code",
   "execution_count": null,
   "id": "99769882",
   "metadata": {},
   "outputs": [],
   "source": [
    "import matplotlib.pyplot as plt2\n",
    "plt2.figure(figsize=(12, 8))\n",
    "plt2.plot(hist.history[\"accuracy\"],label = \"Train Accuracy\", color = \"black\")\n",
    "plt2.plot(hist.history[\"val_accuracy\"],label = \"Validation Accuracy\", color = \"darkred\", \n",
    "         linestyle=\"dashed\",markeredgecolor = \"purple\", markeredgewidth = 2)\n",
    "plt2.title(\"Model Accuracy\", color = \"darkred\", size = 13)\n",
    "plt2.legend()\n",
    "plt2.show()"
   ]
  },
  {
   "cell_type": "code",
   "execution_count": null,
   "id": "b0fcbd21",
   "metadata": {},
   "outputs": [],
   "source": []
  }
 ],
 "metadata": {
  "kernelspec": {
   "display_name": "Python 3 (ipykernel)",
   "language": "python",
   "name": "python3"
  },
  "language_info": {
   "codemirror_mode": {
    "name": "ipython",
    "version": 3
   },
   "file_extension": ".py",
   "mimetype": "text/x-python",
   "name": "python",
   "nbconvert_exporter": "python",
   "pygments_lexer": "ipython3",
   "version": "3.9.12"
  }
 },
 "nbformat": 4,
 "nbformat_minor": 5
}
